{
  "metadata": {
    "name": "sql-flink-us-accidents-demo-lab-1",
    "kernelspec": {
      "language": "scala",
      "name": "spark2-scala"
    },
    "language_info": {
      "codemirror_mode": "text/x-scala",
      "file_extension": ".scala",
      "mimetype": "text/x-scala",
      "name": "scala",
      "pygments_lexer": "scala"
    },
    "colab": {
      "provenance": []
    }
  },
  "nbformat": 4,
  "nbformat_minor": 0,
  "cells": [
    {
      "cell_type": "markdown",
      "metadata": {
        "id": "Q3pb6DdYRRlo"
      },
      "source": [
        "#### Data pipeline: Kinesis Stream --> KDA and Apache Flink --> Kinesis Stream"
      ]
    },
    {
      "cell_type": "code",
      "execution_count": null,
      "metadata": {
        "autoscroll": "auto",
        "id": "kwKfGhRfRRlp"
      },
      "outputs": [],
      "source": [
        "%flink.ssql\n",
        "\n",
        "/*Option 'IF NOT EXISTS' can be used, to protect the existing Schema */\n",
        "DROP TABLE IF EXISTS us_accidents_stream_lab_1;\n",
        "\n",
        "CREATE TABLE us_accidents_stream_lab_1 (\n",
        "  `ID` VARCHAR(50),\n",
        "  `Severity` bigint,\n",
        "  `Start_Time` TIMESTAMP(3),\n",
        "  `End_Time` TIMESTAMP(3),\n",
        "  `Start_Lat` VARCHAR(50),\n",
        "  `Start_Lng` VARCHAR(50),\n",
        "  `End_Lat` VARCHAR(50),\n",
        "  `End_Lng` VARCHAR(50),\n",
        "  `Distance(mi)` VARCHAR(50),\n",
        "  `Description` VARCHAR(500),\n",
        "  `Number` VARCHAR(50),\n",
        "  `Street` VARCHAR(50),\n",
        "  `Side` VARCHAR(50),\n",
        "  `City` VARCHAR(50),\n",
        "  `County` VARCHAR(50),\n",
        "  `State` VARCHAR(50),\n",
        "  `Zipcode` VARCHAR(50),\n",
        "  `Country` VARCHAR(50),\n",
        "  `Timezone` VARCHAR(50),\n",
        "  `Airport_Code` VARCHAR(50),\n",
        "  `Weather_Timestamp` TIMESTAMP(3),\n",
        "  `Temperature(F)` VARCHAR(50),\n",
        "  `Wind_Chill(F)` VARCHAR(50),\n",
        "  `Humidity(%)` VARCHAR(50),\n",
        "  `Pressure(in)` VARCHAR(50),\n",
        "  `Visibility(mi)` VARCHAR(50),\n",
        "  `Wind_Direction` string,\n",
        "  `Wind_Speed(mph)` VARCHAR(50),\n",
        "  `Precipitation(in)` VARCHAR(50),\n",
        "  `Weather_Condition` VARCHAR(50),\n",
        "  `Amenity` VARCHAR(50),\n",
        "  `Bump` boolean,\n",
        "  `Crossing` boolean,\n",
        "  `Give_Way` boolean,\n",
        "  `Junction` boolean,\n",
        "  `No_Exit` boolean,\n",
        "  `Railway` boolean,\n",
        "  `Roundabout` boolean,\n",
        "  `Station` boolean,\n",
        "  `Stop` boolean,\n",
        "  `Traffic_Calming` boolean,\n",
        "  `Traffic_Signal` boolean,\n",
        "  `Turning_Loop` boolean,\n",
        "  `Sunrise_Sunset` VARCHAR(50),\n",
        "  `Civil_Twilight` VARCHAR(50),\n",
        "  `Nautical_Twilight` VARCHAR(50),\n",
        "  `Astronomical_Twilight` VARCHAR(50),\n",
        "  `Txn_Timestamp` TIMESTAMP(3),\n",
        "  WATERMARK FOR Txn_Timestamp as Txn_Timestamp - INTERVAL '10' SECOND\n",
        ")\n",
        "PARTITIONED BY (Severity)\n",
        "WITH (\n",
        "  'connector' = 'kinesis',\n",
        "  'stream' = 'MENTION THE DATA STREAM FROM WHERE YOU ARE READING THE DATA',\n",
        "  'aws.region' = 'REGION WHERE THE DATA STREAM HAS BEEN CREATED',\n",
        "  'scan.stream.initpos' = 'LATEST',\n",
        "  'format' = 'json',\n",
        "  'json.timestamp-format.standard' = 'ISO-8601'\n",
        ");\n",
        "\n"
      ]
    },
    {
      "cell_type": "code",
      "execution_count": null,
      "metadata": {
        "autoscroll": "auto",
        "id": "FFcdDjUnRRlr"
      },
      "outputs": [],
      "source": [
        "%flink.ssql(type=update)\n",
        "\n",
        "select  *\n",
        "from us_accidents_stream;\n"
      ]
    },
    {
      "cell_type": "code",
      "execution_count": null,
      "metadata": {
        "autoscroll": "auto",
        "id": "2LHArEIHRRlr"
      },
      "outputs": [],
      "source": [
        "%flink.ssql(type=update)\n",
        "\n",
        "select State, avg(cast(`Temperature(F)` as DECIMAL)) as avg_temperature\n",
        "from us_accidents_stream_lab_1\n",
        "group by State, tumble(Txn_Timestamp, INTERVAL '5' SECOND);\n"
      ]
    },
    {
      "cell_type": "code",
      "execution_count": null,
      "metadata": {
        "autoscroll": "auto",
        "id": "hIYlxKgERRls"
      },
      "outputs": [],
      "source": [
        "%flink.ssql\n"
      ]
    }
  ]
}